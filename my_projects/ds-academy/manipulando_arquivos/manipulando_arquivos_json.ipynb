{
 "cells": [
  {
   "cell_type": "code",
   "id": "initial_id",
   "metadata": {
    "collapsed": true,
    "ExecuteTime": {
     "end_time": "2024-12-03T02:15:32.776335Z",
     "start_time": "2024-12-03T02:15:32.774024Z"
    }
   },
   "source": [
    "# criando um dicionario\n",
    "\n",
    "lista_compras = {\"Banana\":6,\n",
    "                 \"Cenoura\":5, \n",
    "                 \"Laranja\":32, \n",
    "                 \"Pera\":15}"
   ],
   "outputs": [],
   "execution_count": 21
  },
  {
   "metadata": {
    "ExecuteTime": {
     "end_time": "2024-12-03T02:15:34.435970Z",
     "start_time": "2024-12-03T02:15:34.430909Z"
    }
   },
   "cell_type": "code",
   "source": [
    "for k,v in lista_compras.items():\n",
    "    print(k,v)"
   ],
   "id": "d00e9b5c4991af1c",
   "outputs": [
    {
     "name": "stdout",
     "output_type": "stream",
     "text": [
      "Banana 6\n",
      "Cenoura 5\n",
      "Laranja 32\n",
      "Pera 15\n"
     ]
    }
   ],
   "execution_count": 22
  },
  {
   "metadata": {
    "ExecuteTime": {
     "end_time": "2024-12-03T02:23:47.307975Z",
     "start_time": "2024-12-03T02:23:47.298523Z"
    }
   },
   "cell_type": "code",
   "source": [
    "# importando a biblioteca json\n",
    "import json\n",
    "\n",
    "# convertendo o dicionario para um arquivo json\n",
    "dict_to_json = json.dumps(lista_compras)\n",
    "\n",
    "# criando um arquivo json\n",
    "with open(\"lista_compras.json\", \"w\") as file:\n",
    "    file.write(dict_to_json)\n"
   ],
   "id": "367132ad43447ec0",
   "outputs": [],
   "execution_count": 26
  }
 ],
 "metadata": {
  "kernelspec": {
   "display_name": "Python 3",
   "language": "python",
   "name": "python3"
  },
  "language_info": {
   "codemirror_mode": {
    "name": "ipython",
    "version": 2
   },
   "file_extension": ".py",
   "mimetype": "text/x-python",
   "name": "python",
   "nbconvert_exporter": "python",
   "pygments_lexer": "ipython2",
   "version": "2.7.6"
  }
 },
 "nbformat": 4,
 "nbformat_minor": 5
}
