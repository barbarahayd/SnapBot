{
 "cells": [
  {
   "cell_type": "code",
   "id": "initial_id",
   "metadata": {
    "collapsed": true
   },
   "source": [
    "# desempacotar dados de API\n",
    "\n",
    "response = [\n",
    "    {\"nome\": \"João\", \"idade\": 30}, \n",
    "    {\"total_pedidos\": 5, \"valor_total\": 300.0}\n",
    "]\n",
    "\n",
    "# # Desempacote os valores de `response` nas variáveis `cliente` e `pedidos`\n",
    "\n",
    "cliente, pedido = response\n",
    "\n",
    "print(cliente)\n",
    "print(pedido)\n"
   ],
   "outputs": [],
   "execution_count": null
  },
  {
   "metadata": {},
   "cell_type": "code",
   "source": [
    "# Uma API retorna uma lista com múltiplos itens, mas você só quer os três primeiros.\n",
    "\n",
    "response = [\"item1\", \"item2\", \"item3\", \"item4\", \"item5\"]\n",
    "\n",
    "primeiros_tres = response[:3]"
   ],
   "id": "ca8d5942aca8710c",
   "outputs": [],
   "execution_count": null
  },
  {
   "metadata": {},
   "cell_type": "code",
   "source": [
    "# Às vezes, você só precisa de alguns valores específicos de uma resposta longa. Ignorando itens com _\n",
    "\n",
    "response = [\"usuario1\", \"admin\", \"ativo\", \"criado_em\", \"ultima_login\"]\n",
    "\n",
    "usuario = response[0]\n",
    "status = response[2]\n",
    "\n",
    "print(usuario)\n",
    "print(status)"
   ],
   "id": "df7de0a15cda9450",
   "outputs": [],
   "execution_count": null
  },
  {
   "metadata": {},
   "cell_type": "code",
   "source": [
    "# Uma API retorna uma lista de listas com dados de várias pessoas, mas você quer apenas os nomes.\n",
    "\n",
    "response = [\n",
    "    [\"João\", 30, \"Brasil\"],\n",
    "    [\"Maria\", 25, \"Portugal\"],\n",
    "    [\"Pedro\", 35, \"Espanha\"]\n",
    "]\n",
    "\n",
    "nomes = [pessoa[0] for pessoa in response]\n",
    "\n",
    "print(nomes)"
   ],
   "id": "3a8f9129433e5e87",
   "outputs": [],
   "execution_count": null
  },
  {
   "metadata": {},
   "cell_type": "code",
   "source": [
    "response = {\n",
    "    \"usuario\": {\"id\": 1, \"nome\": \"João\"},\n",
    "    \"pedidos\": [{\"id\": 101, \"valor\": 50.0}, {\"id\": 102, \"valor\": 75.0}]\n",
    "}\n",
    "\n",
    "nome = response[\"usuario\"][\"nome\"]\n",
    "valor_primeiro_pedido = response [\"pedidos\"][0][\"valor\"]\n",
    "valor_segundo_pedido = response [\"pedidos\"][1][\"valor\"]\n",
    "\n",
    "print(nome)\n",
    "print(valor_primeiro_pedido)\n",
    "print(valor_segundo_pedido)"
   ],
   "id": "a257975eaca223ae",
   "outputs": [],
   "execution_count": null
  },
  {
   "metadata": {
    "ExecuteTime": {
     "end_time": "2024-12-10T02:14:19.797894Z",
     "start_time": "2024-12-10T02:14:19.679642Z"
    }
   },
   "cell_type": "code",
   "source": [
    "import requests\n",
    "import json\n",
    "url = \"https://rickandmortyapi.com/api/episode\"\n",
    "response = requests.get(url)\n",
    "data = response.json()"
   ],
   "id": "fbaf4e5bb09d2ba0",
   "outputs": [],
   "execution_count": 14
  },
  {
   "metadata": {
    "ExecuteTime": {
     "end_time": "2024-12-10T02:14:21.130180Z",
     "start_time": "2024-12-10T02:14:21.127707Z"
    }
   },
   "cell_type": "code",
   "source": [
    "nomes_episodios = []\n",
    "\n",
    "for i in range(12):  \n",
    "    nomes_episodios.append(data['results'][i]['name'])"
   ],
   "id": "e6767e628bdc7b00",
   "outputs": [],
   "execution_count": 15
  },
  {
   "metadata": {
    "ExecuteTime": {
     "end_time": "2024-12-10T02:16:18.614895Z",
     "start_time": "2024-12-10T02:16:18.609688Z"
    }
   },
   "cell_type": "code",
   "source": "print(\"\\n\".join(nomes_episodios))",
   "id": "91bf2b941bfdd52d",
   "outputs": [
    {
     "name": "stdout",
     "output_type": "stream",
     "text": [
      "Pilot\n",
      "Lawnmower Dog\n",
      "Anatomy Park\n",
      "M. Night Shaym-Aliens!\n",
      "Meeseeks and Destroy\n",
      "Rick Potion #9\n",
      "Raising Gazorpazorp\n",
      "Rixty Minutes\n",
      "Something Ricked This Way Comes\n",
      "Close Rick-counters of the Rick Kind\n",
      "Ricksy Business\n",
      "A Rickle in Time\n"
     ]
    }
   ],
   "execution_count": 16
  }
 ],
 "metadata": {
  "kernelspec": {
   "display_name": "Python 3",
   "language": "python",
   "name": "python3"
  },
  "language_info": {
   "codemirror_mode": {
    "name": "ipython",
    "version": 2
   },
   "file_extension": ".py",
   "mimetype": "text/x-python",
   "name": "python",
   "nbconvert_exporter": "python",
   "pygments_lexer": "ipython2",
   "version": "2.7.6"
  }
 },
 "nbformat": 4,
 "nbformat_minor": 5
}
