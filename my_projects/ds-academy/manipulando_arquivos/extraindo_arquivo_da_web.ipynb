{
 "cells": [
  {
   "metadata": {
    "collapsed": true,
    "ExecuteTime": {
     "end_time": "2024-12-03T03:09:04.646427Z",
     "start_time": "2024-12-03T03:09:04.261817Z"
    }
   },
   "cell_type": "code",
   "outputs": [],
   "execution_count": 13,
   "source": [
    "import requests\n",
    "import json\n",
    "url = \"https://rickandmortyapi.com/api/episode\"\n",
    "response = requests.get(url)\n",
    "data = response.json()"
   ],
   "id": "initial_id"
  },
  {
   "metadata": {},
   "cell_type": "code",
   "outputs": [],
   "execution_count": null,
   "source": [
    "with open(\"episodes.json\", \"w\") as file:\n",
    "    json.dump(data, file)"
   ],
   "id": "fa376edfac4c6ad8"
  },
  {
   "metadata": {
    "ExecuteTime": {
     "end_time": "2024-12-10T01:35:12.722671Z",
     "start_time": "2024-12-10T01:35:12.718238Z"
    }
   },
   "cell_type": "code",
   "source": [
    "nome_episodio1 = data['results'][0]['name']\n",
    "nome_episodio2 = data['results'][1]['name']\n",
    "nome_episodio3 = data['results'][2]['name']\n",
    "\n",
    "print(f'{nome_episodio1} \\n{nome_episodio2} \\n{nome_episodio3}')"
   ],
   "id": "81eb76e2cd93a4a7",
   "outputs": [
    {
     "name": "stdout",
     "output_type": "stream",
     "text": [
      "Pilot \n",
      "Lawnmower Dog \n",
      "Anatomy Park\n"
     ]
    }
   ],
   "execution_count": 20
  },
  {
   "metadata": {
    "ExecuteTime": {
     "end_time": "2024-12-10T01:55:59.821254Z",
     "start_time": "2024-12-10T01:55:59.818750Z"
    }
   },
   "cell_type": "code",
   "source": "print(type(data['results']))",
   "id": "656c1d3a56595418",
   "outputs": [
    {
     "name": "stdout",
     "output_type": "stream",
     "text": [
      "<class 'list'>\n"
     ]
    }
   ],
   "execution_count": 31
  },
  {
   "metadata": {
    "ExecuteTime": {
     "end_time": "2024-12-10T01:57:36.462695Z",
     "start_time": "2024-12-10T01:57:36.460132Z"
    }
   },
   "cell_type": "code",
   "source": [
    "nomes_episodios = []\n",
    "\n",
    "for i in range(12):  \n",
    "    nomes_episodios.append(data['results'][i]['name'])"
   ],
   "id": "f14ae3b96bc1f197",
   "outputs": [],
   "execution_count": 32
  }
 ],
 "metadata": {
  "kernelspec": {
   "display_name": "Python 3",
   "language": "python",
   "name": "python3"
  },
  "language_info": {
   "codemirror_mode": {
    "name": "ipython",
    "version": 2
   },
   "file_extension": ".py",
   "mimetype": "text/x-python",
   "name": "python",
   "nbconvert_exporter": "python",
   "pygments_lexer": "ipython2",
   "version": "2.7.6"
  }
 },
 "nbformat": 4,
 "nbformat_minor": 5
}
